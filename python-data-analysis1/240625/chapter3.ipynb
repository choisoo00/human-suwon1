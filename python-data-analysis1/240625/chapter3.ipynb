{
 "cells": [
  {
   "cell_type": "code",
   "execution_count": 1,
   "metadata": {},
   "outputs": [
    {
     "name": "stdout",
     "output_type": "stream",
     "text": [
      "Hello\n"
     ]
    }
   ],
   "source": [
    "print('Hello')"
   ]
  },
  {
   "cell_type": "code",
   "execution_count": 7,
   "metadata": {},
   "outputs": [
    {
     "data": {
      "text/plain": [
       "'My number is 511223-2?????? and yours is 52101012-2??????'"
      ]
     },
     "execution_count": 7,
     "metadata": {},
     "output_type": "execute_result"
    }
   ],
   "source": [
    "#패턴을 모두 찾아 리스트로 반환 -> findall\n",
    "\n",
    "number = 'My number is 511223-2****** and yours is 52101012-2******'\n",
    "re.findall(r'\\d{6}', number)\n",
    "\n",
    "number.replace('*', '?')"
   ]
  },
  {
   "cell_type": "code",
   "execution_count": 10,
   "metadata": {},
   "outputs": [
    {
     "name": "stdout",
     "output_type": "stream",
     "text": [
      "['91년에 태어났습니다. 97년에는 IMF가 있었습니다. 지금은 2020년']\n",
      "['91년', '97년', '2020년']\n",
      "['91년', '97년', '2020년']\n"
     ]
    }
   ],
   "source": [
    "#정규표현식에서의 마침표(.)와 물음표(?)는 탐욕을 뜻함\n",
    "#마침표는 모든 문자를 뜻함(ex(0-9a-zA-Zㄱ-ㅎ))\n",
    "example1 = '저는 91년에 태어났습니다. 97년에는 IMF가 있었습니다. 지금은 2020년 입니다.'\n",
    "print(re.findall(r'\\d.+년', example1)) #\\d 는 숫자, . 은 아무 문자, + 는 반복\n",
    "print(re.findall(r'\\d.+?년', example1)) #\\d 는 숫자, . 은 아무 문자, ? 1개 문자(년), + 는 반복\n",
    "print(re.findall(r'\\d+년', example1))  #\\d 는 숫자, + 는 반복"
   ]
  },
  {
   "cell_type": "code",
   "execution_count": 14,
   "metadata": {},
   "outputs": [
    {
     "name": "stdout",
     "output_type": "stream",
     "text": [
      "['I havde dog', ' really', ' I am not telling', ' What a pretty', ' I love this dog', ' ']\n",
      "['I havde dog, really', ' I am not telling', ' What a pretty! I love this dog', ' ']\n",
      "['a', '3']\n",
      "['b', '4']\n",
      "['c', '5']\n"
     ]
    }
   ],
   "source": [
    "#문장 나누는 패턴 만들기 -> re.split(패턴, 문자열)\n",
    "sentance = 'I havde dog, really. I am not telling. What a pretty! I love this dog. '\n",
    "print(re.split(r'[.?!,]', sentance))\n",
    "print(re.split(r'[.]', sentance))\n",
    "#print(re.split(r'.', sentance))\n",
    "\n",
    "data = 'a:3; b:4; c:5'\n",
    "for i in re.split(r'; ', data):\n",
    "    print(re.split(r':', i))"
   ]
  },
  {
   "cell_type": "code",
   "execution_count": 17,
   "metadata": {},
   "outputs": [
    {
     "name": "stdout",
     "output_type": "stream",
     "text": [
      "I havde cat, really. I am not telling. What a pretty! I love this cat. \n",
      "I am home new. I am with my cat. \n"
     ]
    }
   ],
   "source": [
    "#문자열 대치하기(substitute)\n",
    "sentance = 'I havde dog, really. I am not telling. What a pretty! I love this dog. '\n",
    "print(re.sub('dog', 'cat', sentance))\n",
    "\n",
    "words = 'I am home new. \\n\\n\\nI am with my cat. \\n\\n'\n",
    "print(re.sub(r'\\n', '', words))"
   ]
  },
  {
   "cell_type": "code",
   "execution_count": 21,
   "metadata": {},
   "outputs": [
    {
     "name": "stdout",
     "output_type": "stream",
     "text": [
      "['lovely', 'really']\n",
      "['lovely', 'really']\n"
     ]
    }
   ],
   "source": [
    "#문제1: 아래 문장에서 'ly'로 끝나는 단어만 추출하기\n",
    "sentance = 'I havde a lovely dog, really. I am not telling a lie' \n",
    "print(re.findall(r'\\w+ly', sentance))\n",
    "#print(re.findall(r'\\D+ly', sentance))\n",
    "print(re.findall(r'\\w+[l-m][y-z]', sentance))"
   ]
  },
  {
   "cell_type": "code",
   "execution_count": 24,
   "metadata": {},
   "outputs": [],
   "source": [
    "#Q1 -> r'a\\D+' -> 'a'로 시작하고 숫자가 아닌 문자들이 반복되는 것들\n",
    "\n",
    "a = '제 이메일 주소 greatasf@naver.com입니다. 오늘 저는 travel@daum.net라는 어쩌구 어절씨구 zxcl.xdin@asd.com에서 모시'\n",
    "b = re.findall(r'[.a-z.]+@[a-z.]+', a)"
   ]
  },
  {
   "cell_type": "code",
   "execution_count": null,
   "metadata": {},
   "outputs": [],
   "source": []
  }
 ],
 "metadata": {
  "kernelspec": {
   "display_name": "Python 3",
   "language": "python",
   "name": "python3"
  },
  "language_info": {
   "codemirror_mode": {
    "name": "ipython",
    "version": 3
   },
   "file_extension": ".py",
   "mimetype": "text/x-python",
   "name": "python",
   "nbconvert_exporter": "python",
   "pygments_lexer": "ipython3",
   "version": "3.11.7"
  }
 },
 "nbformat": 4,
 "nbformat_minor": 2
}
